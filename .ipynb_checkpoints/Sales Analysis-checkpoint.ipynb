{
 "cells": [
  {
   "cell_type": "markdown",
   "id": "97319bf7-a712-4bd6-b9cc-d418a7d25420",
   "metadata": {},
   "source": [
    "### Import libraries"
   ]
  },
  {
   "cell_type": "code",
   "execution_count": 10,
   "id": "f89b0e91-1eb9-44ca-8d59-cda3c1a2b0f3",
   "metadata": {},
   "outputs": [],
   "source": [
    "import pandas as pd\n",
    "import os"
   ]
  },
  {
   "cell_type": "markdown",
   "id": "469e82d2-1ad4-4183-9d35-dcdea85e553f",
   "metadata": {},
   "source": [
    "#### Fetch all CSVs"
   ]
  },
  {
   "cell_type": "code",
   "execution_count": 14,
   "id": "0861ce88-be7c-4c48-a049-71479d79764b",
   "metadata": {},
   "outputs": [],
   "source": [
    "files = [file for file in os.listdir('./Sales_Data')]\n",
    "\n",
    "df = pd.DataFrame()\n",
    "\n",
    "for file in files:\n",
    "    temp_df = pd.read_csv(f'./Sales_Data/{file}')\n",
    "    df = pd.concat([df, temp_df])\n",
    "\n",
    "df.to_csv(\"all_merged_data.csv\", index=False)"
   ]
  },
  {
   "cell_type": "markdown",
   "id": "828fd3a7-bc01-4f44-a0a1-507536d927be",
   "metadata": {},
   "source": [
    "#### Read merged dataset"
   ]
  },
  {
   "cell_type": "code",
   "execution_count": 230,
   "id": "a32f179e-16b9-4e93-8fa5-1a48bef95a91",
   "metadata": {},
   "outputs": [
    {
     "data": {
      "text/html": [
       "<div>\n",
       "<style scoped>\n",
       "    .dataframe tbody tr th:only-of-type {\n",
       "        vertical-align: middle;\n",
       "    }\n",
       "\n",
       "    .dataframe tbody tr th {\n",
       "        vertical-align: top;\n",
       "    }\n",
       "\n",
       "    .dataframe thead th {\n",
       "        text-align: right;\n",
       "    }\n",
       "</style>\n",
       "<table border=\"1\" class=\"dataframe\">\n",
       "  <thead>\n",
       "    <tr style=\"text-align: right;\">\n",
       "      <th></th>\n",
       "      <th>Order ID</th>\n",
       "      <th>Product</th>\n",
       "      <th>Quantity Ordered</th>\n",
       "      <th>Price Each</th>\n",
       "      <th>Order Date</th>\n",
       "      <th>Purchase Address</th>\n",
       "    </tr>\n",
       "  </thead>\n",
       "  <tbody>\n",
       "    <tr>\n",
       "      <th>0</th>\n",
       "      <td>176558</td>\n",
       "      <td>USB-C Charging Cable</td>\n",
       "      <td>2</td>\n",
       "      <td>11.95</td>\n",
       "      <td>04/19/19 08:46</td>\n",
       "      <td>917 1st St, Dallas, TX 75001</td>\n",
       "    </tr>\n",
       "    <tr>\n",
       "      <th>1</th>\n",
       "      <td>NaN</td>\n",
       "      <td>NaN</td>\n",
       "      <td>NaN</td>\n",
       "      <td>NaN</td>\n",
       "      <td>NaN</td>\n",
       "      <td>NaN</td>\n",
       "    </tr>\n",
       "    <tr>\n",
       "      <th>2</th>\n",
       "      <td>176559</td>\n",
       "      <td>Bose SoundSport Headphones</td>\n",
       "      <td>1</td>\n",
       "      <td>99.99</td>\n",
       "      <td>04/07/19 22:30</td>\n",
       "      <td>682 Chestnut St, Boston, MA 02215</td>\n",
       "    </tr>\n",
       "    <tr>\n",
       "      <th>3</th>\n",
       "      <td>176560</td>\n",
       "      <td>Google Phone</td>\n",
       "      <td>1</td>\n",
       "      <td>600</td>\n",
       "      <td>04/12/19 14:38</td>\n",
       "      <td>669 Spruce St, Los Angeles, CA 90001</td>\n",
       "    </tr>\n",
       "    <tr>\n",
       "      <th>4</th>\n",
       "      <td>176560</td>\n",
       "      <td>Wired Headphones</td>\n",
       "      <td>1</td>\n",
       "      <td>11.99</td>\n",
       "      <td>04/12/19 14:38</td>\n",
       "      <td>669 Spruce St, Los Angeles, CA 90001</td>\n",
       "    </tr>\n",
       "  </tbody>\n",
       "</table>\n",
       "</div>"
      ],
      "text/plain": [
       "  Order ID                     Product Quantity Ordered Price Each  \\\n",
       "0   176558        USB-C Charging Cable                2      11.95   \n",
       "1      NaN                         NaN              NaN        NaN   \n",
       "2   176559  Bose SoundSport Headphones                1      99.99   \n",
       "3   176560                Google Phone                1        600   \n",
       "4   176560            Wired Headphones                1      11.99   \n",
       "\n",
       "       Order Date                      Purchase Address  \n",
       "0  04/19/19 08:46          917 1st St, Dallas, TX 75001  \n",
       "1             NaN                                   NaN  \n",
       "2  04/07/19 22:30     682 Chestnut St, Boston, MA 02215  \n",
       "3  04/12/19 14:38  669 Spruce St, Los Angeles, CA 90001  \n",
       "4  04/12/19 14:38  669 Spruce St, Los Angeles, CA 90001  "
      ]
     },
     "execution_count": 230,
     "metadata": {},
     "output_type": "execute_result"
    }
   ],
   "source": [
    "all_data = pd.read_csv(\"all_merged_data.csv\")\n",
    "all_data.head()"
   ]
  },
  {
   "cell_type": "markdown",
   "id": "bcc7be5e-d2c4-474b-8500-3a34ed2da17e",
   "metadata": {},
   "source": [
    "## Clean Dataset"
   ]
  },
  {
   "cell_type": "markdown",
   "id": "fcf9cf61-fc6c-45f6-8f7c-5428f8b96263",
   "metadata": {},
   "source": [
    "#### Remove rows with NaN"
   ]
  },
  {
   "cell_type": "code",
   "execution_count": 231,
   "id": "934f9b0b-3c8a-4410-a75e-b9febef2926f",
   "metadata": {},
   "outputs": [],
   "source": [
    "nan_df = all_data[all_data.isna().any(axis=1)]"
   ]
  },
  {
   "cell_type": "code",
   "execution_count": 243,
   "id": "bc1fcf49-dac4-4be6-958c-a6677fe6cc24",
   "metadata": {},
   "outputs": [],
   "source": [
    "all_data = all_data.dropna(how=\"all\")"
   ]
  },
  {
   "cell_type": "markdown",
   "id": "9d0f47b6-1cfd-4e5b-a184-27272271d85a",
   "metadata": {},
   "source": [
    "#### Remove rows with wrong values"
   ]
  },
  {
   "cell_type": "code",
   "execution_count": 244,
   "id": "67cb31b9-1110-4835-91d8-614671fbfb0e",
   "metadata": {},
   "outputs": [],
   "source": [
    "all_data = all_data[all_data['Order Date'].str[:2] != 'Or']"
   ]
  },
  {
   "cell_type": "markdown",
   "id": "5ef85014-0774-4a7e-820a-d740a623f018",
   "metadata": {},
   "source": [
    "## Add Columns"
   ]
  },
  {
   "cell_type": "markdown",
   "id": "bfa94687-4338-486c-a062-d0a5cefe2b20",
   "metadata": {},
   "source": [
    "#### Add month"
   ]
  },
  {
   "cell_type": "code",
   "execution_count": 234,
   "id": "ed11defc-3f23-4c0f-8f23-cc0b6eabdc7e",
   "metadata": {},
   "outputs": [
    {
     "name": "stderr",
     "output_type": "stream",
     "text": [
      "C:\\Users\\Abhinav Gupta\\AppData\\Local\\Temp\\ipykernel_748\\1107488707.py:26: UserWarning: Could not infer format, so each element will be parsed individually, falling back to `dateutil`. To ensure parsing is consistent and as-expected, please specify a format.\n",
      "  all_data[\"Hour\"] = pd.to_datetime(all_data[\"Order Date\"]).dt.hour\n"
     ]
    },
    {
     "data": {
      "text/html": [
       "<div>\n",
       "<style scoped>\n",
       "    .dataframe tbody tr th:only-of-type {\n",
       "        vertical-align: middle;\n",
       "    }\n",
       "\n",
       "    .dataframe tbody tr th {\n",
       "        vertical-align: top;\n",
       "    }\n",
       "\n",
       "    .dataframe thead th {\n",
       "        text-align: right;\n",
       "    }\n",
       "</style>\n",
       "<table border=\"1\" class=\"dataframe\">\n",
       "  <thead>\n",
       "    <tr style=\"text-align: right;\">\n",
       "      <th></th>\n",
       "      <th>Order ID</th>\n",
       "      <th>Product</th>\n",
       "      <th>Quantity Ordered</th>\n",
       "      <th>Price Each</th>\n",
       "      <th>Order Date</th>\n",
       "      <th>Purchase Address</th>\n",
       "      <th>Month</th>\n",
       "      <th>Sales</th>\n",
       "      <th>City</th>\n",
       "      <th>Hour</th>\n",
       "      <th>Count</th>\n",
       "    </tr>\n",
       "  </thead>\n",
       "  <tbody>\n",
       "    <tr>\n",
       "      <th>0</th>\n",
       "      <td>176558</td>\n",
       "      <td>USB-C Charging Cable</td>\n",
       "      <td>2</td>\n",
       "      <td>11.95</td>\n",
       "      <td>04/19/19 08:46</td>\n",
       "      <td>917 1st St, Dallas, TX 75001</td>\n",
       "      <td>4</td>\n",
       "      <td>23.90</td>\n",
       "      <td>Dallas (TX)</td>\n",
       "      <td>8</td>\n",
       "      <td>1</td>\n",
       "    </tr>\n",
       "    <tr>\n",
       "      <th>2</th>\n",
       "      <td>176559</td>\n",
       "      <td>Bose SoundSport Headphones</td>\n",
       "      <td>1</td>\n",
       "      <td>99.99</td>\n",
       "      <td>04/07/19 22:30</td>\n",
       "      <td>682 Chestnut St, Boston, MA 02215</td>\n",
       "      <td>4</td>\n",
       "      <td>99.99</td>\n",
       "      <td>Boston (MA)</td>\n",
       "      <td>22</td>\n",
       "      <td>1</td>\n",
       "    </tr>\n",
       "    <tr>\n",
       "      <th>3</th>\n",
       "      <td>176560</td>\n",
       "      <td>Google Phone</td>\n",
       "      <td>1</td>\n",
       "      <td>600.00</td>\n",
       "      <td>04/12/19 14:38</td>\n",
       "      <td>669 Spruce St, Los Angeles, CA 90001</td>\n",
       "      <td>4</td>\n",
       "      <td>600.00</td>\n",
       "      <td>Los Angeles (CA)</td>\n",
       "      <td>14</td>\n",
       "      <td>1</td>\n",
       "    </tr>\n",
       "    <tr>\n",
       "      <th>4</th>\n",
       "      <td>176560</td>\n",
       "      <td>Wired Headphones</td>\n",
       "      <td>1</td>\n",
       "      <td>11.99</td>\n",
       "      <td>04/12/19 14:38</td>\n",
       "      <td>669 Spruce St, Los Angeles, CA 90001</td>\n",
       "      <td>4</td>\n",
       "      <td>11.99</td>\n",
       "      <td>Los Angeles (CA)</td>\n",
       "      <td>14</td>\n",
       "      <td>1</td>\n",
       "    </tr>\n",
       "    <tr>\n",
       "      <th>5</th>\n",
       "      <td>176561</td>\n",
       "      <td>Wired Headphones</td>\n",
       "      <td>1</td>\n",
       "      <td>11.99</td>\n",
       "      <td>04/30/19 09:27</td>\n",
       "      <td>333 8th St, Los Angeles, CA 90001</td>\n",
       "      <td>4</td>\n",
       "      <td>11.99</td>\n",
       "      <td>Los Angeles (CA)</td>\n",
       "      <td>9</td>\n",
       "      <td>1</td>\n",
       "    </tr>\n",
       "  </tbody>\n",
       "</table>\n",
       "</div>"
      ],
      "text/plain": [
       "  Order ID                     Product  Quantity Ordered  Price Each  \\\n",
       "0   176558        USB-C Charging Cable                 2       11.95   \n",
       "2   176559  Bose SoundSport Headphones                 1       99.99   \n",
       "3   176560                Google Phone                 1      600.00   \n",
       "4   176560            Wired Headphones                 1       11.99   \n",
       "5   176561            Wired Headphones                 1       11.99   \n",
       "\n",
       "       Order Date                      Purchase Address  Month   Sales  \\\n",
       "0  04/19/19 08:46          917 1st St, Dallas, TX 75001      4   23.90   \n",
       "2  04/07/19 22:30     682 Chestnut St, Boston, MA 02215      4   99.99   \n",
       "3  04/12/19 14:38  669 Spruce St, Los Angeles, CA 90001      4  600.00   \n",
       "4  04/12/19 14:38  669 Spruce St, Los Angeles, CA 90001      4   11.99   \n",
       "5  04/30/19 09:27     333 8th St, Los Angeles, CA 90001      4   11.99   \n",
       "\n",
       "               City  Hour  Count  \n",
       "0       Dallas (TX)     8      1  \n",
       "2       Boston (MA)    22      1  \n",
       "3  Los Angeles (CA)    14      1  \n",
       "4  Los Angeles (CA)    14      1  \n",
       "5  Los Angeles (CA)     9      1  "
      ]
     },
     "execution_count": 234,
     "metadata": {},
     "output_type": "execute_result"
    }
   ],
   "source": [
    "## Add Month Column\n",
    "all_data[\"Month\"] = all_data[\"Order Date\"].str[0:2]\n",
    "all_data[\"Month\"] = all_data[\"Month\"].astype(\"int32\")\n",
    "## Alternate Method to add Month column\n",
    "# all_data[\"Month_2\"] = pd.to_datetime(all_data[\"Order Date\"]).dt.month\n",
    "\n",
    "\n",
    "## Add Sales Column\n",
    "all_data[\"Quantity Ordered\"] = pd.to_numeric(all_data[\"Quantity Ordered\"])\n",
    "all_data[\"Price Each\"] = pd.to_numeric(all_data[\"Price Each\"])\n",
    "all_data[\"Sales\"] = all_data[\"Quantity Ordered\"] * all_data[\"Price Each\"]\n",
    "## Alternate method\n",
    "# all_data['Sales'] = all_data['Quantity Ordered'].astype('int') * all_data['Price Each'].astype('float')\n",
    "\n",
    "\n",
    "## Add City Column\n",
    "def get_city(address):\n",
    "    address_split = address.split(\",\")\n",
    "    return f'{address_split[1].strip(\" \")} ({address_split[2].strip(\" \").split(\" \")[0]})'\n",
    "    \n",
    "all_data[\"City\"] = all_data[\"Purchase Address\"].apply(lambda x: get_city(x))\n",
    "all_data.head()\n",
    "\n",
    "\n",
    "## Add Hour Column\n",
    "all_data[\"Hour\"] = pd.to_datetime(all_data[\"Order Date\"]).dt.hour\n",
    "all_data[\"Count\"] = 1\n",
    "\n",
    "\n",
    "all_data.head()"
   ]
  },
  {
   "cell_type": "code",
   "execution_count": null,
   "id": "dd7dd108-0e04-4908-96e9-e9a69714c484",
   "metadata": {},
   "outputs": [],
   "source": []
  },
  {
   "cell_type": "markdown",
   "id": "d93f9eda-a8a5-4410-8122-f0cef0aaa0cd",
   "metadata": {},
   "source": [
    "# Question 1: Which month has highest number of sales?"
   ]
  },
  {
   "cell_type": "code",
   "execution_count": 235,
   "id": "ff47e99a-3630-41e7-b240-5f2e844e8ce8",
   "metadata": {},
   "outputs": [],
   "source": [
    "month_wise_df = all_data.groupby([\"Month\"]).sum([\"Sales\"])\n",
    "# month_wise_df"
   ]
  },
  {
   "cell_type": "code",
   "execution_count": 236,
   "id": "564a0e73-c2af-45a6-9a6f-5358c55bdfc1",
   "metadata": {},
   "outputs": [],
   "source": [
    "import matplotlib.pyplot as plt\n",
    "# plt.bar(range(1,13), month_wise_df[\"Sales\"])\n",
    "# plt.xticks(range(1,13))\n",
    "# plt.ylabel('Sales in Million USD ($)')\n",
    "# plt.xlabel('Month number')\n",
    "# plt.show()"
   ]
  },
  {
   "cell_type": "markdown",
   "id": "0e0f04aa-55fa-4726-ad59-08c26a1f7ad0",
   "metadata": {},
   "source": [
    "# Question 2: Which City has highest number of sales?"
   ]
  },
  {
   "cell_type": "code",
   "execution_count": 237,
   "id": "efb34cf8-fb31-41d4-9a79-3b58100d26ad",
   "metadata": {},
   "outputs": [],
   "source": [
    "city_sale_df = all_data.groupby([\"City\"]).sum([\"Sales\"])\n",
    "# city_sale_df[\"Sales\"]"
   ]
  },
  {
   "cell_type": "code",
   "execution_count": 238,
   "id": "803eb967-045b-467e-8b2f-8e01cb94d96d",
   "metadata": {},
   "outputs": [],
   "source": [
    "import matplotlib.pyplot as plt\n",
    "\n",
    "cities = [city[0] for city, df in all_data.groupby(['City'])]\n",
    "\n",
    "# plt.bar(cities, city_sale_df['Sales'])\n",
    "# plt.ylabel('Sales in Million USD ($)')\n",
    "# plt.xlabel('City Name')\n",
    "# plt.xticks(cities, rotation='vertical', size=8)\n",
    "# plt.show()"
   ]
  },
  {
   "cell_type": "markdown",
   "id": "3ee7c1c0-8054-4567-9f82-4e9c3a529502",
   "metadata": {},
   "source": [
    "# Question 3: At what time should we advertise?"
   ]
  },
  {
   "cell_type": "code",
   "execution_count": 239,
   "id": "009dc8d2-af73-46e3-a3f6-68f1e77a119f",
   "metadata": {},
   "outputs": [],
   "source": [
    "keys = [pair[0] for pair, df in all_data.groupby(['Hour'])]\n",
    "count_df = all_data.groupby(['Hour']).count()['Count']\n",
    "\n",
    "# plt.plot(keys, count_df)\n",
    "# plt.xticks(keys)\n",
    "# plt.grid()\n",
    "# plt.show()\n",
    "\n",
    "## Morning around -> 11 am to 1 noon\n",
    "## Evening arounf -> 6.30 pm to 7.30 pm"
   ]
  },
  {
   "cell_type": "markdown",
   "id": "505ee4f4-ba89-4caf-a983-72935ef690c0",
   "metadata": {},
   "source": [
    "# Question 4: What products are purchased together?"
   ]
  },
  {
   "cell_type": "code",
   "execution_count": 240,
   "id": "23435492-3607-4c27-b80d-c3c8b5288dee",
   "metadata": {},
   "outputs": [
    {
     "name": "stderr",
     "output_type": "stream",
     "text": [
      "C:\\Users\\Abhinav Gupta\\AppData\\Local\\Temp\\ipykernel_748\\710627240.py:3: SettingWithCopyWarning: \n",
      "A value is trying to be set on a copy of a slice from a DataFrame.\n",
      "Try using .loc[row_indexer,col_indexer] = value instead\n",
      "\n",
      "See the caveats in the documentation: https://pandas.pydata.org/pandas-docs/stable/user_guide/indexing.html#returning-a-view-versus-a-copy\n",
      "  df[\"Grouped\"] = df.groupby([\"Order ID\"])[\"Product\"].transform(lambda x: \", \".join(x))\n"
     ]
    },
    {
     "data": {
      "text/html": [
       "<div>\n",
       "<style scoped>\n",
       "    .dataframe tbody tr th:only-of-type {\n",
       "        vertical-align: middle;\n",
       "    }\n",
       "\n",
       "    .dataframe tbody tr th {\n",
       "        vertical-align: top;\n",
       "    }\n",
       "\n",
       "    .dataframe thead th {\n",
       "        text-align: right;\n",
       "    }\n",
       "</style>\n",
       "<table border=\"1\" class=\"dataframe\">\n",
       "  <thead>\n",
       "    <tr style=\"text-align: right;\">\n",
       "      <th></th>\n",
       "      <th>Order ID</th>\n",
       "      <th>Grouped</th>\n",
       "    </tr>\n",
       "  </thead>\n",
       "  <tbody>\n",
       "    <tr>\n",
       "      <th>3</th>\n",
       "      <td>176560</td>\n",
       "      <td>Google Phone, Wired Headphones</td>\n",
       "    </tr>\n",
       "    <tr>\n",
       "      <th>18</th>\n",
       "      <td>176574</td>\n",
       "      <td>Google Phone, USB-C Charging Cable</td>\n",
       "    </tr>\n",
       "    <tr>\n",
       "      <th>30</th>\n",
       "      <td>176585</td>\n",
       "      <td>Bose SoundSport Headphones, Bose SoundSport He...</td>\n",
       "    </tr>\n",
       "    <tr>\n",
       "      <th>32</th>\n",
       "      <td>176586</td>\n",
       "      <td>AAA Batteries (4-pack), Google Phone</td>\n",
       "    </tr>\n",
       "    <tr>\n",
       "      <th>119</th>\n",
       "      <td>176672</td>\n",
       "      <td>Lightning Charging Cable, USB-C Charging Cable</td>\n",
       "    </tr>\n",
       "  </tbody>\n",
       "</table>\n",
       "</div>"
      ],
      "text/plain": [
       "    Order ID                                            Grouped\n",
       "3     176560                     Google Phone, Wired Headphones\n",
       "18    176574                 Google Phone, USB-C Charging Cable\n",
       "30    176585  Bose SoundSport Headphones, Bose SoundSport He...\n",
       "32    176586               AAA Batteries (4-pack), Google Phone\n",
       "119   176672     Lightning Charging Cable, USB-C Charging Cable"
      ]
     },
     "execution_count": 240,
     "metadata": {},
     "output_type": "execute_result"
    }
   ],
   "source": [
    "# Create group based on order_id.\n",
    "df = all_data[all_data[\"Order ID\"].duplicated(keep=False)]\n",
    "df[\"Grouped\"] = df.groupby([\"Order ID\"])[\"Product\"].transform(lambda x: \", \".join(x))\n",
    "df2 = df[[\"Order ID\", \"Grouped\"]].drop_duplicates()\n",
    "df2.head()"
   ]
  },
  {
   "cell_type": "code",
   "execution_count": 241,
   "id": "53fce4f0-0dbe-4b2d-bba1-c61381b8a86b",
   "metadata": {},
   "outputs": [
    {
     "name": "stdout",
     "output_type": "stream",
     "text": [
      "('iPhone', 'Lightning Charging Cable') 1005\n",
      "('Google Phone', 'USB-C Charging Cable') 987\n",
      "('iPhone', 'Wired Headphones') 447\n",
      "('Google Phone', 'Wired Headphones') 414\n",
      "('Vareebadd Phone', 'USB-C Charging Cable') 361\n",
      "('iPhone', 'Apple Airpods Headphones') 360\n",
      "('Google Phone', 'Bose SoundSport Headphones') 220\n",
      "('USB-C Charging Cable', 'Wired Headphones') 160\n",
      "('Vareebadd Phone', 'Wired Headphones') 143\n",
      "('Lightning Charging Cable', 'Wired Headphones') 92\n"
     ]
    }
   ],
   "source": [
    "from itertools import combinations\n",
    "from collections import Counter\n",
    "\n",
    "count = Counter()\n",
    "\n",
    "for row in df2[\"Grouped\"]:\n",
    "    items = row.split(\", \")\n",
    "    count.update(Counter(combinations(items, 2)))\n",
    "\n",
    "for key, val in count.most_common(10):\n",
    "    print(key, val)"
   ]
  },
  {
   "cell_type": "markdown",
   "id": "2ea19112-5d5f-4de1-a985-03d28374b3ee",
   "metadata": {},
   "source": [
    "# Question 5: Which product sold the most? and why?"
   ]
  },
  {
   "cell_type": "code",
   "execution_count": 242,
   "id": "eff55b63-826b-4340-b34e-a284ae5422b0",
   "metadata": {},
   "outputs": [
    {
     "data": {
      "image/png": "[encoded data removed]",
      "text/plain": [
       "<Figure size 640x480 with 1 Axes>"
      ]
     },
     "metadata": {},
     "output_type": "display_data"
    }
   ],
   "source": [
    "product_df = all_data.groupby([\"Product\"])\n",
    "quantity_ordered_df = product_df.sum()[\"Quantity Ordered\"]\n",
    "\n",
    "keys = [pair[0] for pair, df in product_df]\n",
    "plt.bar(keys, quantity_ordered_df)\n",
    "plt.xticks(keys, rotation='vertical', size=8)\n",
    "plt.show()"
   ]
  },
  {
   "cell_type": "code",
   "execution_count": null,
   "id": "ccd22207-1b2e-4055-b1f7-cbfd7e0ee431",
   "metadata": {},
   "outputs": [],
   "source": []
  },
  {
   "cell_type": "code",
   "execution_count": null,
   "id": "e287a4a6-75e9-4d11-bb1a-77b4382c514b",
   "metadata": {},
   "outputs": [],
   "source": []
  },
  {
   "cell_type": "code",
   "execution_count": null,
   "id": "b756aad9-cf09-4410-adb1-1632f889ecd8",
   "metadata": {},
   "outputs": [],
   "source": []
  },
  {
   "cell_type": "code",
   "execution_count": null,
   "id": "677d87af-385e-4641-a1cb-341c0b0bfbff",
   "metadata": {},
   "outputs": [],
   "source": []
  },
  {
   "cell_type": "code",
   "execution_count": null,
   "id": "31b4cc59-e19c-495f-866a-ff0e3e5e2dd9",
   "metadata": {},
   "outputs": [],
   "source": []
  },
  {
   "cell_type": "code",
   "execution_count": null,
   "id": "141fe0a3-bc6a-4596-b7c0-0d682bd8ae12",
   "metadata": {},
   "outputs": [],
   "source": []
  }
 ],
 "metadata": {
  "kernelspec": {
   "display_name": "Python 3 (ipykernel)",
   "language": "python",
   "name": "python3"
  },
  "language_info": {
   "codemirror_mode": {
    "name": "ipython",
    "version": 3
   },
   "file_extension": ".py",
   "mimetype": "text/x-python",
   "name": "python",
   "nbconvert_exporter": "python",
   "pygments_lexer": "ipython3",
   "version": "3.13.1"
  }
 },
 "nbformat": 4,
 "nbformat_minor": 5
}
